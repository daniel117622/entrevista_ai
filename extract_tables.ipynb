{
 "cells": [
  {
   "cell_type": "markdown",
   "metadata": {},
   "source": [
    "Agregar la librería de selenium"
   ]
  },
  {
   "cell_type": "code",
   "execution_count": 139,
   "metadata": {},
   "outputs": [],
   "source": [
    "from selenium import webdriver\n",
    "from selenium.webdriver.chrome.options import Options\n",
    "from selenium.webdriver.common.by import By\n",
    "chop = Options()\n",
    "chop.add_argument(\"headless=new\")\n",
    "\n",
    "driver = webdriver.Chrome(options=chop)\n",
    "\n"
   ]
  },
  {
   "cell_type": "code",
   "execution_count": 140,
   "metadata": {},
   "outputs": [],
   "source": [
    "ENTIDADES_URL = \"https://es.wikipedia.org/wiki/Anexo:Entidades_federativas_de_M%C3%A9xico_por_superficie,_poblaci%C3%B3n_y_densidad\"\n",
    "driver.get(ENTIDADES_URL)\n",
    "#Get first 3 tables to avoid the footer\n",
    "tables = driver.find_elements(By.CSS_SELECTOR,\"table\")[0:3]\n"
   ]
  },
  {
   "cell_type": "code",
   "execution_count": 141,
   "metadata": {},
   "outputs": [
    {
     "name": "stdout",
     "output_type": "stream",
     "text": [
      "\n",
      "<td bgcolor=\"#d8d8d8\">01</td>\n",
      "<td bgcolor=\"#d8d8d8\">11</td>\n",
      "<td bgcolor=\"#d8d8d8\">30</td>\n",
      "<td><a href=\"/wiki/Chihuahua\" title=\"Chihuahua\">Chihuahua</a></td>\n",
      "<td align=\"right\">247&nbsp;455</td>\n",
      "<td align=\"right\">12,6</td>\n",
      "<td align=\"right\">3 741 869</td>\n",
      "<td align=\"right\">14</td>\n",
      "<td bgcolor=\"#f8f8f0\"><a href=\"/wiki/Chihuahua_(Chihuahua)\" title=\"Chihuahua (Chihuahua)\">Chihuahua</a></td>\n",
      "<td align=\"right\" bgcolor=\"#f8f8f0\">925 762</td>\n",
      "<td bgcolor=\"#f8f8f0\">05\n",
      "</td>\n"
     ]
    }
   ],
   "source": [
    "rows = tables[0].find_elements(By.CSS_SELECTOR , \"tr\")[3:]\n",
    "# From row 3 and below the elements are entries\n",
    "print(rows[0].get_attribute(\"innerHTML\"))"
   ]
  },
  {
   "cell_type": "markdown",
   "metadata": {},
   "source": [
    "Entidades federativas de México por superficie, población y densidad"
   ]
  },
  {
   "cell_type": "code",
   "execution_count": 47,
   "metadata": {},
   "outputs": [
    {
     "name": "stdout",
     "output_type": "stream",
     "text": [
      "Chihuahua : 247455 | 3741869 | 14\n",
      "Sonora : 179355 | 2944840 | 16\n",
      "Coahuila : 151562 | 3146771 | 19\n",
      "Durango : 123317 | 1832650 | 14\n",
      "Oaxaca : 93757 | 4132148 | 42\n",
      "Tamaulipas : 80249 | 3527735 | 43\n",
      "Jalisco : 78588 | 8348151 | 100\n",
      "Zacatecas : 75284 | 1622138 | 21\n",
      "Baja California Sur : 73909 | 798447 | 10\n",
      "Chiapas : 73311 | 5543828 | 71\n",
      "Veracruz  : 71826 | 8062579 | 113\n",
      "Baja California : 71450 | 3769020 | 46\n",
      "Nuevo León : 64156 | 5784442 | 80\n",
      "Guerrero : 63596 | 3540685 | 56\n",
      "San Luis Potosí : 61137 | 2822255 | 44\n",
      "Michoacán : 58599 | 4748846 | 78\n",
      "Sinaloa : 58200 | 3026943 | 52\n",
      "Campeche : 57507 | 928363 | 16\n",
      "Quintana Roo : 44705 | 1857985 | 34\n",
      "Yucatán : 39524 | 2320898 | 53\n",
      "Puebla : 34306 | 6583278 | 180\n",
      "Guanajuato : 30608 | 6166934 | 191\n",
      "Nayarit : 27857 | 1235456 | 42\n",
      "Tabasco : 24731 | 2402598 | 97\n",
      "Estado de México : 22351 | 16992418 | 724\n",
      "Hidalgo : 20813 | 3082841 | 137\n",
      "Querétaro : 11699 | 2368467 | 174\n",
      "Colima : 5627 | 731391 | 126\n",
      "Aguascalientes : 5616 | 1425607 | 234\n",
      "Morelos : 4879 | 1971520 | 390\n",
      "Tlaxcala : 4016 | 1342977 | 318\n",
      "Ciudad de México : 1495 | 9209944 | 5966\n"
     ]
    }
   ],
   "source": [
    "import re\n",
    "\n",
    "def get_numbers(string_item):\n",
    "    return re.sub(\"[^\\d\\.]\", \"\" ,string_item)\n",
    "\n",
    "for row in rows:\n",
    "    # Different DOM structure\n",
    "    estado = row.find_element(By.CSS_SELECTOR,\"td>a\").get_attribute(\"innerHTML\")\n",
    "    #Rest of the items\n",
    "    cells = row.find_elements(By.CSS_SELECTOR, \"td\")\n",
    "    superficie = get_numbers(cells[4].get_attribute(\"innerHTML\"))\n",
    "    poblacion = get_numbers(cells[6].get_attribute(\"innerHTML\"))\n",
    "    densidad = get_numbers(cells[7].get_attribute(\"innerHTML\"))\n",
    "\n",
    "    \n",
    "    print(f\"{estado} : {superficie} | {poblacion} | {densidad}\")\n"
   ]
  },
  {
   "cell_type": "markdown",
   "metadata": {},
   "source": [
    "Censos (INEGI) 1900-2020"
   ]
  },
  {
   "cell_type": "code",
   "execution_count": 61,
   "metadata": {},
   "outputs": [
    {
     "name": "stdout",
     "output_type": "stream",
     "text": [
      "Estado de México : ['16992418', '15175862', '13096686', '9815795', '7564335', '3833185', '1897851', '1392623', '1146340', '990112', '884617', '989510']\n",
      "Ciudad de México : ['9209944', '8851080', '8605239', '8235744', '8831079', '6874165', '4870876', '3050442', '1757530', '1229576', '906063', '720753']\n",
      "Jalisco : ['8348151', '6322002', '5302689', '4371998', '3296586', '2443261', '1746777', '1418310', '1255346', '1191957', '1208855', '1137311']\n",
      "Veracruz : ['8062579', '6908975', '6228239', '5387680', '3815422', '2727899', '2040231', '1619338', '1377293', '1159935', '1132859', '960570']\n",
      "Puebla : ['6583278', '5076686', '4126101', '3347685', '2508226', '1973837', '1625830', '1294620', '1150425', '1024955', '1101600', '1024446']\n",
      "Guanajuato : ['6166934', '4663032', '3982593', '3006110', '2270370', '1735490', '1328712', '1046490', '987801', '860364', '1081651', '1065317']\n",
      "Nuevo León : ['5784442', '3834141', '3098736', '2513044', '1694689', '1078848', '740191', '541147', '417491', '336412', '365150', '326940']\n",
      "Chiapas : ['5543828', '3920892', '3210496', '2084717', '1569053', '1210870', '907026', '679885', '529983', '421744', '438843', '363607']\n",
      "Michoacán : ['4748846', '3985667', '3548199', '2868824', '2324226', '1851876', '1422717', '1182003', '1048381', '939849', '991880', '935849']\n",
      "Oaxaca : ['4132148', '3438765', '3019560', '2369076', '2015424', '1727266', '1421313', '1192794', '1084549', '976005', '1040398', '947910']\n",
      "Baja California : ['3769020', '2487367', '1660855', '1177886', '870421', '520165', '226965', '78907', '48327', '23537', '9760', '7581']\n",
      "Chihuahua : ['3741869', '3052907', '2441873', '2005477', '1612525', '1226793', '846414', '623944', '491792', '401622', '405707', '327004']\n",
      "Guerrero : ['3540685', '3079649', '2620637', '2109513', '1597360', '1186716', '919386', '732910', '641690', '566836', '593278', '474594']\n",
      "Tamaulipas : ['3527735', '2753222', '2249581', '1924484', '1456858', '1024182', '718167', '458832', '344039', '286904', '249641', '218948']\n",
      "Coahuila : ['3146771', '2298070', '1972340', '1557265', '1114956', '907734', '720619', '550717', '436425', '393480', '362092', '280899']\n",
      "Hidalgo : ['3082841', '2235591', '1888366', '1547493', '1193845', '994598', '850394', '771818', '677772', '622241', '646551', '603074']\n",
      "Sinaloa : ['3026943', '2536844', '2204054', '1849879', '1266528', '838404', '635681', '492821', '395618', '341265', '323642', '296109']\n",
      "Sonora : ['2944840', '2216969', '1823606', '1513731', '1098720', '783378', '510607', '364176', '316271', '275127', '265383', '220553']\n",
      "San Luis Potosí : ['2822255', '2299360', '2003187', '1673893', '1281996', '1048297', '856066', '678779', '579831', '445681', '627800', '582486']\n",
      "Tabasco : ['2402598', '1891829', '1501744', '1062961', '768327', '496340', '362716', '285630', '224023', '210437', '187574', '158107']\n",
      "Querétaro : ['2368467', '1404306', '1051235', '739605', '485523', '355045', '286238', '244737', '234058', '220231', '244663', '228489']\n",
      "Yucatán : ['2320898', '1658210', '1362940', '1063733', '758355', '614049', '516899', '418210', '386096', '358221', '339613', '312264']\n",
      "Morelos : ['1971520', '1555296', '1195059', '947089', '616119', '386264', '272842', '182711', '132068', '103440', '179594', '161697']\n",
      "Quintana Roo : ['1857985', '874963', '493277', '225985', '88150', '50169', '26967', '18752', '10620', '10966', '9109', '']\n",
      "Durango : ['1832650', '1448661', '1349378', '1182320', '939208', '760836', '629874', '483829', '404364', '336766', '483175', '371274']\n",
      "Zacatecas : ['1622138', '1353610', '1276323', '1136830', '951462', '817831', '665524', '565437', '459047', '379329', '477556', '462886']\n",
      "Aguascalientes : ['1425607', '944285', '719659', '519439', '338142', '243363', '188075', '161693', '132900', '107581', '120511', '101910']\n",
      "Tlaxcala : ['1342977', '962646', '761277', '556597', '420638', '346699', '284551', '224063', '205458', '178570', '184171', '172217']\n",
      "Nayarit : ['1235456', '920185', '824643', '726120', '544031', '389929', '290124', '216698', '167724', '162499', '171173', '149677']\n",
      "Campeche : ['928363', '690689', '535185', '420553', '251556', '168219', '122098', '90460', '84630', '76419', '86661', '84281']\n",
      "Baja California Sur : ['798447', '424041', '317764', '215139', '128019', '81594', '60864', '51471', '47089', '39294', '42512', '39501']\n",
      "Colima : ['731391', '542627', '428510', '346293', '241153', '164450', '112321', '78806', '61923', '91749', '77704', '65026']\n",
      "México : ['126014024', '97483412', '81249645', '66846833', '48225238', '34923129', '25791017', '19653552', '16552722', '14334780', '15160369', '13607272']\n"
     ]
    }
   ],
   "source": [
    "rows = tables[1].find_elements(By.CSS_SELECTOR , \"tr\")[2:]\n",
    "\n",
    "# YEAR 2020 is cell 2 and above\n",
    "from collections import defaultdict\n",
    "def default_value():\n",
    "    return []\n",
    "\n",
    "dtable2 = defaultdict(default_value)\n",
    "# Assume the population list is from 2020 - 10 * iteration\n",
    "for row in rows:\n",
    "    # Un estado por fila\n",
    "    estado = row.find_element(By.CSS_SELECTOR,\"td>a\").get_attribute(\"innerHTML\")\n",
    "    for cell in row.find_elements(By.CSS_SELECTOR , \"td\")[2:]:\n",
    "        poblacion_value = get_numbers(cell.get_attribute(\"innerHTML\"))\n",
    "        dtable2[estado].append(poblacion_value)\n",
    "\n",
    "for key , value in dtable2.items():\n",
    "    print(f\"{key} : {value}\")"
   ]
  },
  {
   "cell_type": "markdown",
   "metadata": {},
   "source": [
    "Proyecciones de población 2010-2030 (CONAPO)"
   ]
  },
  {
   "cell_type": "code",
   "execution_count": 76,
   "metadata": {},
   "outputs": [
    {
     "name": "stdout",
     "output_type": "stream",
     "text": [
      "Estado de México : ['15571679', '16870388', '18075065', '19178922', '20167433', '15571679', '16870388', '18075065', '19178922', '20167433']\n",
      "Ciudad de México : ['8944599', '8854600', '8738914', '8600179', '8439786', '8944599', '8854600', '8738914', '8600179', '8439786']\n",
      "Veracruz : ['7712247', '8046828', '8328389', '8573860', '8781620', '7712247', '8046828', '8328389', '8573860', '8781620']\n",
      "Jalisco : ['7442625', '7931267', '8363277', '8751124', '9102259', '7442625', '7931267', '8363277', '8751124', '9102259']\n",
      "Puebla : ['5863823', '6193836', '6481536', '6730952', '6942481', '5863823', '6193836', '6481536', '6730952', '6942481']\n",
      "Guanajuato : ['5558502', '5817614', '6033559', '6214047', '6361401', '5558502', '5817614', '6033559', '6214047', '6361401']\n",
      "Chiapas : ['4933755', '5252808', '5568648', '5861450', '6129218', '4933755', '5252808', '5568648', '5861450', '6129218']\n",
      "Nuevo León : ['4923273', '5085848', '5440277', '5778562', '6097769', '4923273', '5085848', '5440277', '5778562', '6097769']\n",
      "Michoacán : ['4420271', '4596499', '4741317', '4861254', '4960773', '4420271', '4596499', '4741317', '4861254', '4960773']\n",
      "Oaxaca : ['3868109', '4012295', '4127899', '4221023', '4293423', '3868109', '4012295', '4127899', '4221023', '4293423']\n",
      "Chihuahua : ['3525273', '3710129', '3882739', '4037778', '4177815', '3525273', '3710129', '3882739', '4037778', '4177815']\n",
      "Guerrero : ['3444264', '3568139', '3657305', '3723868', '3772110', '3444264', '3568139', '3657305', '3723868', '3772110']\n",
      "Tamaulipas : ['3334664', '3543366', '3735589', '3910946', '4069115', '3334664', '3543366', '3735589', '3910946', '4069115']\n",
      "Baja California : ['3224844', '3484150', '3729225', '3957878', '4169240', '3224844', '3484150', '3729225', '3957878', '4169240']\n",
      "Sinaloa : ['2851334', '2984571', '3105704', '3211820', '3302931', '2851334', '2984571', '3105704', '3211820', '3302931']\n",
      "Coahuila : ['2782013', '2960681', '3129782', '3286369', '3427879', '2782013', '2960681', '3129782', '3286369', '3427879']\n",
      "Sonora : ['2727032', '2932821', '3125865', '3307365', '3476930', '2727032', '2932821', '3125865', '3307365', '3476930']\n",
      "Hidalgo : ['2690086', '2878369', '3044937', '3195296', '3329765', '2690086', '2878369', '3044937', '3195296', '3329765']\n",
      "San Luis Potosí : ['2616459', '2753478', '2868906', '2968898', '3055130', '2616459', '2753478', '2868906', '2968898', '3055130']\n",
      "Tabasco : ['2252641', '2383900', '2498558', '2599884', '2687426', '2252641', '2383900', '2498558', '2599884', '2687426']\n",
      "Yucatán : ['1980690', '2118762', '2252505', '2380828', '2503132', '1980690', '2118762', '2252505', '2380828', '2503132']\n",
      "Querétaro : ['1848191', '2004472', '2147765', '2280816', '2403016', '1848191', '2004472', '2147765', '2280816', '2403016']\n",
      "Morelos : ['1803340', '1920350', '2030580', '2131722', '2222863', '1803340', '1920350', '2030580', '2131722', '2222863']\n",
      "Durango : ['1669815', '1764726', '1847547', '1920046', '1983389', '1669815', '1764726', '1847547', '1920046', '1983389']\n",
      "Zacatecas : ['1509019', '1576068', '1633878', '1683467', '1726347', '1509019', '1576068', '1633878', '1683467', '1726347']\n",
      "Quintana Roo : ['1350945', '1574824', '1798603', '2018532', '2232702', '1350945', '1574824', '1798603', '2018532', '2232702']\n",
      "Aguascalientes : ['1195787', '1287660', '1369306', '1442693', '1507807', '1195787', '1287660', '1369306', '1442693', '1507807']\n",
      "Tlaxcala : ['1186143', '1278308', '1363576', '1443300', '1516712', '1186143', '1278308', '1363576', '1443300', '1516712']\n",
      "Nayarit : ['1108860', '1223797', '1333853', '1440524', '1544709', '1108860', '1223797', '1333853', '1440524', '1544709']\n",
      "Campeche : ['836748', '907878', '974877', '1038576', '1098636', '836748', '907878', '974877', '1038576', '1098636']\n",
      "Colima : ['658910', '723455', '782831', '838498', '891050', '658910', '723455', '782831', '838498', '891050']\n",
      "Baja California Sur : ['649616', '763929', '878830', '993577', '1106468', '649616', '763929', '878830', '993577', '1106468']\n"
     ]
    }
   ],
   "source": [
    "rows = tables[2].find_elements(By.CSS_SELECTOR , \"tr\")[2:-1]\n",
    "\n",
    "href_to_visit = []\n",
    "\n",
    "# YEAR 2020 is cell 2 and above\n",
    "dtable3 = defaultdict(default_value)\n",
    "# Assume the population list is from 2020 - 10 * iteration\n",
    "for row in rows:\n",
    "    estado = row.find_element(By.CSS_SELECTOR, \"td>a\")\n",
    "    href_to_visit.append( estado.get_attribute(\"href\") )\n",
    "    \n",
    "    for cell in row.find_elements(By.CSS_SELECTOR, \"td\"):\n",
    "        poblacion_value = get_numbers(cell.get_attribute(\"innerHTML\"))\n",
    "        dtable3[estado.get_attribute(\"innerHTML\")].append(poblacion_value)\n",
    "\n",
    "\n",
    "for key , value in dtable2.items():\n",
    "    print(f\"{key} : {value}\")"
   ]
  },
  {
   "cell_type": "markdown",
   "metadata": {},
   "source": [
    "Utilizar las tablas de HREF to visit"
   ]
  },
  {
   "cell_type": "code",
   "execution_count": 136,
   "metadata": {},
   "outputs": [
    {
     "name": "stdout",
     "output_type": "stream",
     "text": [
      "https://es.wikipedia.org/wiki/Estado_de_M%C3%A9xico\n",
      "El nombre del Estado de México deriva del término náhuatl Mēxihco [me:ʃiʔko], que designaba la capital de los mexicas, México-Tenochtitlan. De acuerdo con Bernardino de Sahagún, el vocablo significa ‘En el ombligo de la luna’.20 La hipótesis ha sido objetada porque la morfología del náhuatl no admite una derivación del topónimo a partir de las voces propuestas.21 Francisco Javier Clavijero sugería que el topónimo debía interpretarse como ‘Lugar de Mexihtli’, es decir, de Huitzilopochtli, pues Mexihtli era uno de sus nombres alternativos.22\n",
      "https://es.wikipedia.org/wiki/Veracruz_de_Ignacio_de_la_Llave\n",
      "El nombre del estado se debe a la cuatro veces heroica ciudad y puerto de Veracruz, fundada por Hernán Cortés el 22 de abril de 1519, como la Villa Rica de la Vera Cruz dicho nombre tiene el siguiente origen: Villa por ser parecido a las villas españolas; Rica por la cantidad de oro obtenido de los indígenas y Vera Cruz debido a la fecha en que desembarcaron frente a la Isla de San Juan de Ulúa, era Viernes Santo, fecha en la que se conmemora la muerte de Jesucristo en la cruz, el día de la verdadera cruz.11\n",
      "https://es.wikipedia.org/wiki/Jalisco\n",
      "El nombre de Jalisco proviene de la mezcla de tres palabras de origen náhuatl: xalli, que significa arena, īxtli, rostro o superficie, y la designa de lugar -co: \"En la superficie de arena\" o \"En el arenal\".18 Durante varios siglos y hasta 1836, Jalisco se escribió \"Xalisco\", con X inicial debido a que era la letra utilizada para reproducir el sonido correspondiente a la \"J\", hasta que esta última letra se incorporó al alfabeto latino. Además, en náhuatl, la letra X reflejaba el fonema ʃ en AFI, o bien el fonema \"sh\" en inglés.\n",
      "https://es.wikipedia.org/wiki/Puebla\n",
      "El nombre del estado proviene del nombre de la capital del estado, la ciudad de Puebla. Los historiadores tienen dos versiones sobre el origen del nombre de la ciudad, ambas con evidencia documental. Según la primera versión, el nombre proviene de las cartas puebla, con las que los monarcas españoles daban permiso a los conquistadores para fundar nuevas ciudades. La segunda versión, más probable, dice que el nombre proviene del nombre del sacerdote franciscano Juan de la Puebla, quien en España estaba involucrado en la selección de misioneros que acompañaron a los conquistadores que fundaron la ciudad.18\n",
      "https://es.wikipedia.org/wiki/Guanajuato\n",
      "La creación del topónimo Guanajuato, en lengua indígena, se remonta aproximadamente al siglo xiii o XIV. Por esa época fue cuando llegaron y se asentaron en dicho territorio los habitantes venidos del altiplano andino, que fundaron el Señorío del Caltzontzin, llamados michhuaques, tarascos o purépechas; los cuales con las diversas conquistas que emprendieron abarcó un extenso territorio conformado con lo que hoy en día es el actual Estado de Michoacán, la parte sur del Estado de Guanajuato, parte de los estados de Jalisco, Querétaro, San Luis Potosí y Zacatecas. El pueblo michhuaque acostumbraba dar nombre a los lugares que iban conquistando e incorporando al Señorío del Caltzontzin de acuerdo a las características físicas o geográficas del entorno, o bien, a la abundancia de algunos animales, plantas o materiales físicos en específico. El topónimo Guanajuato, se forma de quana- radical extendida del término quanas, rana, como se escribía en el siglo xvi (en la actualidad se escribe kuanásï, rana); y, huuat- radical extendida del término huuata, cerro, como se escribía en el siglo xvi (en la actualidad se escribe juáta, cerro); y -o, locativo, sufijo determinativo de lugar. Formándose el topónimo quana-huuat-o, partículas que ya unidas conforman el nombre de lugar Quanahuuato, con el significado de En el cerro de la rana.1314\n",
      "https://es.wikipedia.org/wiki/Chiapas\n",
      "El estado fue nombrado así durante la época colonial, cuando los españoles denominaron la región, en nombre de los pueblos indígenas del actual centro del estado: los soctones. Este pueblo, de filiación y lengua otomangue, tuvo su principal centro político en Nandalumí, que fue llamada chiapan (del náhuatl: Chía-apan ‘Río de la chía’) por los mexicas, de donde deriva el nombre náhuatl de los soctones, es decir chiapanecatl. Este término fue castellanizado en plural como chiapanecas o chiapas. Los españoles combatieron contra los soctones que, según cuenta la leyenda, prefirieron arrojarse al río Grande de Chiapa desde el punto más alto del cañón del Sumidero, antes que someterse a los españoles y sus aliados. Este lugar era llamado en náhuatl Tepechiapan. De acuerdo con la traducción adoptada por el propio gobierno chiapaneco, Tepechiapan se traduce como Agua debajo del cerro (del náhuatl tepetl: cerro; chi: abajo; atl: agua, pan: río, lugar).11\n",
      "https://es.wikipedia.org/wiki/Nuevo_Le%C3%B3n\n",
      "El nombre del estado le fue dado por los conquistadores españoles en el año 1579, específicamente por su fundador, el portugués Luis Carvajal y de la Cueva, en honor al Reino de León, lugar en donde nació el rey Felipe II de España.10\n",
      "https://es.wikipedia.org/wiki/Michoac%C3%A1n\n",
      "El término «Michoacán» es de origen náhuatl, y con este los aztecas o mexicas denominaban al territorio ubicado en el occidente de México en el que se asentó el Imperio purépecha o michuaque, gobernado por el irecha (llamado caltzontzin por los mexicas).\n",
      "https://es.wikipedia.org/wiki/Oaxaca\n",
      "El nombre proviene de la denominación náhuatl Huāxyacac impuesta por los conquistadores mexicas en el siglo xv en el momento de su incorporación al Imperio tenochca; huāxin significa en español huaje, una planta común en la región de los valles, yacatl significa literalmente \"nariz\", pero se traduce mejor como \"punta\" y el sufijo locativo -c, \"lugar de\", dando así el significado de \"El lugar en la punta del guaje\".\n",
      "https://es.wikipedia.org/wiki/Chihuahua\n",
      "El origen de la palabra Chihuahua es muy discutido por historiadores y lingüistas. Existen cinco acepciones conocidas, por las que se expone que este nombre proviene de lenguas como el náhuatl y el rarámuri, del cual se traduce como \"lugar donde se juntan las aguas de los ríos\" o \"lugar de fábricas\", o antiguas lenguas regionales, como el concho. Uno de los posibles orígenes más conocidos es el náhuatl Xicahua, que significa \"lugar seco y arenoso\", pero no existe acuerdo universal sobre esta hipótesis.\n",
      "https://es.wikipedia.org/wiki/Estado_de_Guerrero\n",
      "La idea de crear el estado de Guerrero surgió desde los tiempos de la lucha por la Independencia de México. El general José María Morelos y Pavón elaboró un documento mediante el cual creaba en el sur de México la provincia de Nuestra Señora de Guadalupe de Tecpan. El territorio que Morelos le asignó a esta provincia correspondía, en ese tiempo, a una parte de las intendencias de México, Puebla y Valladolid. La idea de Morelos no tuvo éxito en ese entonces. Por iniciativa del general Juan Álvarez Hurtado, el entonces presidente de la República, José Joaquín de Herrera, declaró la creación del estado de Guerrero. El nombre de la entidad rinde homenaje a Vicente Guerrero Saldaña (1782-1831),12 destacado insurgente y caudillo en la etapa de resistencia durante la guerra de Independencia y segundo presidente de México. El nombre del estado le fue impuesto como tal en su creación el 27 de octubre de 1849. Guerrero es el único estado del país nombrado en honor a un presidente mexicano, pues otros ostentan el nombre de otros personajes destacados de la historia de México. El estado de Hidalgo en honor a Miguel Hidalgo, iniciador de la Independencia de México; Morelos en honor a José María Morelos, también artífice de la guerra de independencia, y Quintana Roo, en homenaje a Andrés Quintana Roo. El nuevo estado se fundó con los territorios de Acapulco, Chilapa y Taxco que antes pertenecían al Estado de México; el de Tlapa perteneciente a Puebla y el de Coyuca que era de Michoacán.13\n",
      "https://es.wikipedia.org/wiki/Tamaulipas\n",
      "El nombre Tamaulipas se piensa que viene del huasteco Tamholipa: \"lugar donde se reza mucho\", donde el prefijo tam significa “lugar donde”. Aunque no existe un acuerdo acerca del significado del vocablo holipa, parece ser que la interpretación más común es “rezar mucho”, lo cual, uniendo ambas palabras, daría lugar al significado de “lugar donde se reza mucho”.10\n",
      "https://es.wikipedia.org/wiki/Baja_California\n",
      "El nombre California ya existía antes del descubrimiento de América o primera exploración de los europeos en tierras como nombre de un país ficticio y paradisíaco. Es dudosa la relación de tal apelación con el similar \"Califerne\", nombre de una reina no cristiana de la Canción de Roldán, cuya etimología es diferente (del francés \"calife\"). En la novela de caballería Las sergas de Esplandián, publicada en 1510 en Sevilla (España), se cita por vez primera el nombre tal y como lo conocemos en la actualidad, quizá proveniente de \"Cálida fornax\" u ‘horno caliente’ más el sufijo de país -ia.\n",
      "https://es.wikipedia.org/wiki/Sinaloa\n",
      "Existen varias versiones acerca del significado de su nombre. La etimología más aceptada establece que la palabra Sinaloa viene de la lengua cahita, y se compone de las voces sina, que significa pitahaya, y lobola, que significa redondeado. Así, sinalobola significa: \"pitahaya redonda\".\n",
      "https://es.wikipedia.org/wiki/Coahuila_de_Zaragoza\n",
      "Existen diversas teorías en relación con el origen del nombre Coahuila. Por ejemplo, Vito Alessio Robles, militar e historiador de Coahuila, aseveraba que el nombre provenía de la conjunción de las locuciones \"koatl\" y \"wilana\" que en la lengua náhuatl (hablada en ciertas partes del estado después de la Conquista, que dio lugar al náhuatl del sur de Coahuila) se podía interpretar como \"lugar donde se arrastran las serpientes\".\n",
      "https://es.wikipedia.org/wiki/Sonora\n",
      "Existen algunas conjeturas sobre el origen del nombre Sonora. Una es que proviene de la palabra Señora, que fue el primer nombre dado a la región por los exploradores españoles, encabezados por Diego de Guzmán, debido a que arribaron al río Yaqui el 7 de octubre de 1533, día de Nuestra Señora del Rosario. Como los nativos no podían pronunciar la letra 'ñ', Señora derivó en Sonora. Una segunda conjetura dice que los indígenas vivían en chozas de cañas llamadas en su lengua sonot. Los españoles cambiaron esa palabra a sonora y luego extendieron el nombre a toda la provincia.12\n",
      "https://es.wikipedia.org/wiki/Estado_de_Hidalgo\n",
      "El estado lleva como nombre oficial el de Estado Libre y Soberano de Hidalgo,24 pero se le conoce comúnmente como estado de Hidalgo o simplemente como Hidalgo.25 El nombre fue designado el 16 de enero de 1869, cuando el Congreso de la Unión de México emitió el Decreto de erección del estado de Hidalgo.26 Se le asignó el nombre Hidalgo en honor al considerado padre de la patria e iniciador de la Independencia de México: Miguel Hidalgo y Costilla.26 Su abreviatura oficialmente aceptada es Hgo.;26 y a sus habitantes se les da el gentilicio de hidalguenses.27\n",
      "https://es.wikipedia.org/wiki/San_Luis_Potos%C3%AD\n",
      "El estado recibe dicho nombre en honor al rey Luis IX de Francia, así como a la región minera similar de Potosí, ubicada en Bolivia.\n",
      "https://es.wikipedia.org/wiki/Tabasco\n",
      "El origen del nombre del estado ha sido objeto de diferentes interpretaciones. La más aceptada es que proviene del nombre del cacique indígena Tabscoob (en maya: \"Nuestro señor de los ocho leones\", en alusión a las ocho provincias que comprendía la provincia de Chocohtán), quien gobernaba la provincia en el momento del desembarco de los españoles en 1518. Los conquistadores españoles escucharon a los indígenas referirse al río Grijalva como río Tabasco.8   Al respecto, Bernal Díaz del Castillo relata que, durante la expedición al mando del capitán Juan de Grijalva, \"llegaron a la desembocadura de un gran río llamado de Tabasco, porque así se llamaba el cacique de aquel pueblo\".9\n",
      "https://es.wikipedia.org/wiki/Yucat%C3%A1n\n",
      "El nombre Yucatán, también asignado a la península, se originó durante las primeras exploraciones de los conquistadores provenientes de Europa.33 Son fidedignas las versiones que coinciden en que este nombre habría resultado de una confusión entre los habitantes mayas y los primeros exploradores españoles hacia 1517:\n",
      "https://es.wikipedia.org/wiki/Morelos\n",
      "El nombre del estado proviene de José María Morelos y Pavón, destacado militar insurgente durante la Guerra de Independencia.\n",
      "https://es.wikipedia.org/wiki/Durango\n",
      "El nombre del estado proviene de su capital homónima, la cual fue nombrada como Durango, que significa en euskera “Vega rodeada de agua y montañas”, por Francisco de Ibarra, conquistador español procedente de la población de Éibar, cercana a la villa de Durango, en la provincia vasca de Vizcaya, en España.\n",
      "https://es.wikipedia.org/wiki/Zacatecas\n",
      "Del náhuatl, zacatl, y co; locativo: «lugar donde abunda el zacate». El nombre significa personas que viven en el lugar del zacate. Antes de su conquista el lugar era habitado por indígenas llamados zacatecas, de donde precisamente se deriva el nombre de Zacatecas.15\n",
      "https://es.wikipedia.org/wiki/Quintana_Roo\n",
      "El nombre del estado proviene de Andrés Quintana Roo (1787-1851), político, escritor, poeta y periodista nacido en Mérida, Yucatán. Fue diputado y firmante del Acta de Independencia de México. Fue esposo de Leona Vicario. Murió en la Ciudad de México.\n",
      "https://es.wikipedia.org/wiki/Aguascalientes\n",
      "Aguascalientes toma nombre de su capital homónima. La Villa de Nuestra Señora de la Asunción de las Aguas Calientes se fundó el 22 de octubre de 1575 dentro del Reino de Nueva Galicia, pues era necesario implementar una protección y dar asilo a los comerciantes de la Ruta de la Plata —que recorría de Ciudad de México a Zacatecas. Nuestra Señora de la Asunción tomó nombre de dicha advocación virginal mientras que Aguas calientes tomó su nombre debido a las aguas termales que los primeros pobladores españoles descubrieron al asentarse en dicha zona.24\n",
      "https://es.wikipedia.org/wiki/Tlaxcala\n",
      "El punto final de la peregrinación tlaxcalteca fue la sierra de Tepeticpac y el sitio escogido para la fundación del señorío se llamó Texcallac (AFI: [teʃkal:ak]), que en opinión de don Diego Muñoz Camargo significa «despeñadero», describiendo de esta manera el lugar al que los había conducido el dios Camaxtli.\n",
      "https://es.wikipedia.org/wiki/Nayarit\n",
      "La palabra Nayarit proviene del cora, que es el etnónimo con el que se nombran al pueblo cora Naáyarite (singular: Naáyari). Nayarit significa: \"Hijo de Dios que está en el cielo y en el Sol\".8\n",
      "https://es.wikipedia.org/wiki/Campeche\n",
      "Existen diversas teorías acerca del origen de la palabra Campeche (del maya: kaan peech ‘serpiente y garrapata’).10 Otros indican que Campeche se deriva de las palabras k'iin (del maya: K'iin ‘sol’) que significa sol y peech, como ya se indicó, garrapata. Algunos suponen que a este nombre (k'iin peech) se le puede agregar el prefijo aj que quiere decir lugar y en conjunto diría \"lugar del señor sol garrapata\".10\n",
      "https://es.wikipedia.org/wiki/Colima\n",
      "Colima es derivado del nahuatl \"Acollima\" o \"Acolliman\", compuesto de \"atl\" (agua), \"colic\" (torcido o doblado) y la terminación locativa \"-man\", traducido como \"(el) lugar donde se doblan las aguas\" o \"(lugar en) el recodo del río\".7\n",
      "https://es.wikipedia.org/wiki/Baja_California_Sur\n",
      "El nombre California ya existía antes del descubrimiento de América o primera exploración de los europeos en tierras como nombre de un país ficticio y paradisíaco. Es dudosa la relación de tal apelación con el similar \"Califerne\", nombre de una reina no cristiana de la Canción de Roldán, cuya etimología es diferente (del francés \"calife\"). En la novela de caballería Las sergas de Esplandián, publicada en 1510 en Sevilla (España), se cita por vez primera el nombre tal y como lo conocemos en la actualidad, quizá proveniente de \"Cálida fornax\" u ‘horno caliente’ más el sufijo de país -ia.\n"
     ]
    }
   ],
   "source": [
    "\n",
    "dtoponimias = defaultdict()\n",
    "\n",
    "for link in href_to_visit:\n",
    "    driver.get(link)\n",
    "\n",
    "    text_area = driver.find_element(By.CSS_SELECTOR, \"#mw-content-text>div\")\n",
    "    paragraphs = text_area.find_elements(By.XPATH, \"./*\")\n",
    "\n",
    "    is_toponimia_next = False\n",
    "\n",
    "    for paragraph in paragraphs:\n",
    "        if paragraph.tag_name == \"h2\":\n",
    "            try:\n",
    "                titulo = paragraph.find_element(By.ID, \"Toponimia\").get_attribute(\"innerHTML\")\n",
    "                is_toponimia_next = True\n",
    "                continue\n",
    "            except:\n",
    "                pass\n",
    "        if is_toponimia_next:\n",
    "            # Avoid figures or spans embedded between title and text\n",
    "            if paragraph.tag_name != \"p\":\n",
    "                continue\n",
    "            print(link)\n",
    "            print(paragraph.text)  \n",
    "            dtoponimias[link] = paragraph.text\n",
    "            break\n",
    "\n"
   ]
  },
  {
   "cell_type": "code",
   "execution_count": 138,
   "metadata": {},
   "outputs": [
    {
     "name": "stdout",
     "output_type": "stream",
     "text": [
      "https://es.wikipedia.org/wiki/Estado_de_M%C3%A9xico : El nombre del Estado de México deriva del término náhuatl Mēxihco [me:ʃiʔko], que designaba la capital de los mexicas, México-Tenochtitlan. De acuerdo con Bernardino de Sahagún, el vocablo significa ‘En el ombligo de la luna’.20 La hipótesis ha sido objetada porque la morfología del náhuatl no admite una derivación del topónimo a partir de las voces propuestas.21 Francisco Javier Clavijero sugería que el topónimo debía interpretarse como ‘Lugar de Mexihtli’, es decir, de Huitzilopochtli, pues Mexihtli era uno de sus nombres alternativos.22\n",
      "https://es.wikipedia.org/wiki/Veracruz_de_Ignacio_de_la_Llave : El nombre del estado se debe a la cuatro veces heroica ciudad y puerto de Veracruz, fundada por Hernán Cortés el 22 de abril de 1519, como la Villa Rica de la Vera Cruz dicho nombre tiene el siguiente origen: Villa por ser parecido a las villas españolas; Rica por la cantidad de oro obtenido de los indígenas y Vera Cruz debido a la fecha en que desembarcaron frente a la Isla de San Juan de Ulúa, era Viernes Santo, fecha en la que se conmemora la muerte de Jesucristo en la cruz, el día de la verdadera cruz.11\n",
      "https://es.wikipedia.org/wiki/Jalisco : El nombre de Jalisco proviene de la mezcla de tres palabras de origen náhuatl: xalli, que significa arena, īxtli, rostro o superficie, y la designa de lugar -co: \"En la superficie de arena\" o \"En el arenal\".18 Durante varios siglos y hasta 1836, Jalisco se escribió \"Xalisco\", con X inicial debido a que era la letra utilizada para reproducir el sonido correspondiente a la \"J\", hasta que esta última letra se incorporó al alfabeto latino. Además, en náhuatl, la letra X reflejaba el fonema ʃ en AFI, o bien el fonema \"sh\" en inglés.\n",
      "https://es.wikipedia.org/wiki/Puebla : El nombre del estado proviene del nombre de la capital del estado, la ciudad de Puebla. Los historiadores tienen dos versiones sobre el origen del nombre de la ciudad, ambas con evidencia documental. Según la primera versión, el nombre proviene de las cartas puebla, con las que los monarcas españoles daban permiso a los conquistadores para fundar nuevas ciudades. La segunda versión, más probable, dice que el nombre proviene del nombre del sacerdote franciscano Juan de la Puebla, quien en España estaba involucrado en la selección de misioneros que acompañaron a los conquistadores que fundaron la ciudad.18\n",
      "https://es.wikipedia.org/wiki/Guanajuato : La creación del topónimo Guanajuato, en lengua indígena, se remonta aproximadamente al siglo xiii o XIV. Por esa época fue cuando llegaron y se asentaron en dicho territorio los habitantes venidos del altiplano andino, que fundaron el Señorío del Caltzontzin, llamados michhuaques, tarascos o purépechas; los cuales con las diversas conquistas que emprendieron abarcó un extenso territorio conformado con lo que hoy en día es el actual Estado de Michoacán, la parte sur del Estado de Guanajuato, parte de los estados de Jalisco, Querétaro, San Luis Potosí y Zacatecas. El pueblo michhuaque acostumbraba dar nombre a los lugares que iban conquistando e incorporando al Señorío del Caltzontzin de acuerdo a las características físicas o geográficas del entorno, o bien, a la abundancia de algunos animales, plantas o materiales físicos en específico. El topónimo Guanajuato, se forma de quana- radical extendida del término quanas, rana, como se escribía en el siglo xvi (en la actualidad se escribe kuanásï, rana); y, huuat- radical extendida del término huuata, cerro, como se escribía en el siglo xvi (en la actualidad se escribe juáta, cerro); y -o, locativo, sufijo determinativo de lugar. Formándose el topónimo quana-huuat-o, partículas que ya unidas conforman el nombre de lugar Quanahuuato, con el significado de En el cerro de la rana.1314\n",
      "https://es.wikipedia.org/wiki/Chiapas : El estado fue nombrado así durante la época colonial, cuando los españoles denominaron la región, en nombre de los pueblos indígenas del actual centro del estado: los soctones. Este pueblo, de filiación y lengua otomangue, tuvo su principal centro político en Nandalumí, que fue llamada chiapan (del náhuatl: Chía-apan ‘Río de la chía’) por los mexicas, de donde deriva el nombre náhuatl de los soctones, es decir chiapanecatl. Este término fue castellanizado en plural como chiapanecas o chiapas. Los españoles combatieron contra los soctones que, según cuenta la leyenda, prefirieron arrojarse al río Grande de Chiapa desde el punto más alto del cañón del Sumidero, antes que someterse a los españoles y sus aliados. Este lugar era llamado en náhuatl Tepechiapan. De acuerdo con la traducción adoptada por el propio gobierno chiapaneco, Tepechiapan se traduce como Agua debajo del cerro (del náhuatl tepetl: cerro; chi: abajo; atl: agua, pan: río, lugar).11\n",
      "https://es.wikipedia.org/wiki/Nuevo_Le%C3%B3n : El nombre del estado le fue dado por los conquistadores españoles en el año 1579, específicamente por su fundador, el portugués Luis Carvajal y de la Cueva, en honor al Reino de León, lugar en donde nació el rey Felipe II de España.10\n",
      "https://es.wikipedia.org/wiki/Michoac%C3%A1n : El término «Michoacán» es de origen náhuatl, y con este los aztecas o mexicas denominaban al territorio ubicado en el occidente de México en el que se asentó el Imperio purépecha o michuaque, gobernado por el irecha (llamado caltzontzin por los mexicas).\n",
      "https://es.wikipedia.org/wiki/Oaxaca : El nombre proviene de la denominación náhuatl Huāxyacac impuesta por los conquistadores mexicas en el siglo xv en el momento de su incorporación al Imperio tenochca; huāxin significa en español huaje, una planta común en la región de los valles, yacatl significa literalmente \"nariz\", pero se traduce mejor como \"punta\" y el sufijo locativo -c, \"lugar de\", dando así el significado de \"El lugar en la punta del guaje\".\n",
      "https://es.wikipedia.org/wiki/Chihuahua : El origen de la palabra Chihuahua es muy discutido por historiadores y lingüistas. Existen cinco acepciones conocidas, por las que se expone que este nombre proviene de lenguas como el náhuatl y el rarámuri, del cual se traduce como \"lugar donde se juntan las aguas de los ríos\" o \"lugar de fábricas\", o antiguas lenguas regionales, como el concho. Uno de los posibles orígenes más conocidos es el náhuatl Xicahua, que significa \"lugar seco y arenoso\", pero no existe acuerdo universal sobre esta hipótesis.\n",
      "https://es.wikipedia.org/wiki/Estado_de_Guerrero : La idea de crear el estado de Guerrero surgió desde los tiempos de la lucha por la Independencia de México. El general José María Morelos y Pavón elaboró un documento mediante el cual creaba en el sur de México la provincia de Nuestra Señora de Guadalupe de Tecpan. El territorio que Morelos le asignó a esta provincia correspondía, en ese tiempo, a una parte de las intendencias de México, Puebla y Valladolid. La idea de Morelos no tuvo éxito en ese entonces. Por iniciativa del general Juan Álvarez Hurtado, el entonces presidente de la República, José Joaquín de Herrera, declaró la creación del estado de Guerrero. El nombre de la entidad rinde homenaje a Vicente Guerrero Saldaña (1782-1831),12 destacado insurgente y caudillo en la etapa de resistencia durante la guerra de Independencia y segundo presidente de México. El nombre del estado le fue impuesto como tal en su creación el 27 de octubre de 1849. Guerrero es el único estado del país nombrado en honor a un presidente mexicano, pues otros ostentan el nombre de otros personajes destacados de la historia de México. El estado de Hidalgo en honor a Miguel Hidalgo, iniciador de la Independencia de México; Morelos en honor a José María Morelos, también artífice de la guerra de independencia, y Quintana Roo, en homenaje a Andrés Quintana Roo. El nuevo estado se fundó con los territorios de Acapulco, Chilapa y Taxco que antes pertenecían al Estado de México; el de Tlapa perteneciente a Puebla y el de Coyuca que era de Michoacán.13\n",
      "https://es.wikipedia.org/wiki/Tamaulipas : El nombre Tamaulipas se piensa que viene del huasteco Tamholipa: \"lugar donde se reza mucho\", donde el prefijo tam significa “lugar donde”. Aunque no existe un acuerdo acerca del significado del vocablo holipa, parece ser que la interpretación más común es “rezar mucho”, lo cual, uniendo ambas palabras, daría lugar al significado de “lugar donde se reza mucho”.10\n",
      "https://es.wikipedia.org/wiki/Baja_California : El nombre California ya existía antes del descubrimiento de América o primera exploración de los europeos en tierras como nombre de un país ficticio y paradisíaco. Es dudosa la relación de tal apelación con el similar \"Califerne\", nombre de una reina no cristiana de la Canción de Roldán, cuya etimología es diferente (del francés \"calife\"). En la novela de caballería Las sergas de Esplandián, publicada en 1510 en Sevilla (España), se cita por vez primera el nombre tal y como lo conocemos en la actualidad, quizá proveniente de \"Cálida fornax\" u ‘horno caliente’ más el sufijo de país -ia.\n",
      "https://es.wikipedia.org/wiki/Sinaloa : Existen varias versiones acerca del significado de su nombre. La etimología más aceptada establece que la palabra Sinaloa viene de la lengua cahita, y se compone de las voces sina, que significa pitahaya, y lobola, que significa redondeado. Así, sinalobola significa: \"pitahaya redonda\".\n",
      "https://es.wikipedia.org/wiki/Coahuila_de_Zaragoza : Existen diversas teorías en relación con el origen del nombre Coahuila. Por ejemplo, Vito Alessio Robles, militar e historiador de Coahuila, aseveraba que el nombre provenía de la conjunción de las locuciones \"koatl\" y \"wilana\" que en la lengua náhuatl (hablada en ciertas partes del estado después de la Conquista, que dio lugar al náhuatl del sur de Coahuila) se podía interpretar como \"lugar donde se arrastran las serpientes\".\n",
      "https://es.wikipedia.org/wiki/Sonora : Existen algunas conjeturas sobre el origen del nombre Sonora. Una es que proviene de la palabra Señora, que fue el primer nombre dado a la región por los exploradores españoles, encabezados por Diego de Guzmán, debido a que arribaron al río Yaqui el 7 de octubre de 1533, día de Nuestra Señora del Rosario. Como los nativos no podían pronunciar la letra 'ñ', Señora derivó en Sonora. Una segunda conjetura dice que los indígenas vivían en chozas de cañas llamadas en su lengua sonot. Los españoles cambiaron esa palabra a sonora y luego extendieron el nombre a toda la provincia.12\n",
      "https://es.wikipedia.org/wiki/Estado_de_Hidalgo : El estado lleva como nombre oficial el de Estado Libre y Soberano de Hidalgo,24 pero se le conoce comúnmente como estado de Hidalgo o simplemente como Hidalgo.25 El nombre fue designado el 16 de enero de 1869, cuando el Congreso de la Unión de México emitió el Decreto de erección del estado de Hidalgo.26 Se le asignó el nombre Hidalgo en honor al considerado padre de la patria e iniciador de la Independencia de México: Miguel Hidalgo y Costilla.26 Su abreviatura oficialmente aceptada es Hgo.;26 y a sus habitantes se les da el gentilicio de hidalguenses.27\n",
      "https://es.wikipedia.org/wiki/San_Luis_Potos%C3%AD : El estado recibe dicho nombre en honor al rey Luis IX de Francia, así como a la región minera similar de Potosí, ubicada en Bolivia.\n",
      "https://es.wikipedia.org/wiki/Tabasco : El origen del nombre del estado ha sido objeto de diferentes interpretaciones. La más aceptada es que proviene del nombre del cacique indígena Tabscoob (en maya: \"Nuestro señor de los ocho leones\", en alusión a las ocho provincias que comprendía la provincia de Chocohtán), quien gobernaba la provincia en el momento del desembarco de los españoles en 1518. Los conquistadores españoles escucharon a los indígenas referirse al río Grijalva como río Tabasco.8   Al respecto, Bernal Díaz del Castillo relata que, durante la expedición al mando del capitán Juan de Grijalva, \"llegaron a la desembocadura de un gran río llamado de Tabasco, porque así se llamaba el cacique de aquel pueblo\".9\n",
      "https://es.wikipedia.org/wiki/Yucat%C3%A1n : El nombre Yucatán, también asignado a la península, se originó durante las primeras exploraciones de los conquistadores provenientes de Europa.33 Son fidedignas las versiones que coinciden en que este nombre habría resultado de una confusión entre los habitantes mayas y los primeros exploradores españoles hacia 1517:\n",
      "https://es.wikipedia.org/wiki/Morelos : El nombre del estado proviene de José María Morelos y Pavón, destacado militar insurgente durante la Guerra de Independencia.\n",
      "https://es.wikipedia.org/wiki/Durango : El nombre del estado proviene de su capital homónima, la cual fue nombrada como Durango, que significa en euskera “Vega rodeada de agua y montañas”, por Francisco de Ibarra, conquistador español procedente de la población de Éibar, cercana a la villa de Durango, en la provincia vasca de Vizcaya, en España.\n",
      "https://es.wikipedia.org/wiki/Zacatecas : Del náhuatl, zacatl, y co; locativo: «lugar donde abunda el zacate». El nombre significa personas que viven en el lugar del zacate. Antes de su conquista el lugar era habitado por indígenas llamados zacatecas, de donde precisamente se deriva el nombre de Zacatecas.15\n",
      "https://es.wikipedia.org/wiki/Quintana_Roo : El nombre del estado proviene de Andrés Quintana Roo (1787-1851), político, escritor, poeta y periodista nacido en Mérida, Yucatán. Fue diputado y firmante del Acta de Independencia de México. Fue esposo de Leona Vicario. Murió en la Ciudad de México.\n",
      "https://es.wikipedia.org/wiki/Aguascalientes : Aguascalientes toma nombre de su capital homónima. La Villa de Nuestra Señora de la Asunción de las Aguas Calientes se fundó el 22 de octubre de 1575 dentro del Reino de Nueva Galicia, pues era necesario implementar una protección y dar asilo a los comerciantes de la Ruta de la Plata —que recorría de Ciudad de México a Zacatecas. Nuestra Señora de la Asunción tomó nombre de dicha advocación virginal mientras que Aguas calientes tomó su nombre debido a las aguas termales que los primeros pobladores españoles descubrieron al asentarse en dicha zona.24\n",
      "https://es.wikipedia.org/wiki/Tlaxcala : El punto final de la peregrinación tlaxcalteca fue la sierra de Tepeticpac y el sitio escogido para la fundación del señorío se llamó Texcallac (AFI: [teʃkal:ak]), que en opinión de don Diego Muñoz Camargo significa «despeñadero», describiendo de esta manera el lugar al que los había conducido el dios Camaxtli.\n",
      "https://es.wikipedia.org/wiki/Nayarit : La palabra Nayarit proviene del cora, que es el etnónimo con el que se nombran al pueblo cora Naáyarite (singular: Naáyari). Nayarit significa: \"Hijo de Dios que está en el cielo y en el Sol\".8\n",
      "https://es.wikipedia.org/wiki/Campeche : Existen diversas teorías acerca del origen de la palabra Campeche (del maya: kaan peech ‘serpiente y garrapata’).10 Otros indican que Campeche se deriva de las palabras k'iin (del maya: K'iin ‘sol’) que significa sol y peech, como ya se indicó, garrapata. Algunos suponen que a este nombre (k'iin peech) se le puede agregar el prefijo aj que quiere decir lugar y en conjunto diría \"lugar del señor sol garrapata\".10\n",
      "https://es.wikipedia.org/wiki/Colima : Colima es derivado del nahuatl \"Acollima\" o \"Acolliman\", compuesto de \"atl\" (agua), \"colic\" (torcido o doblado) y la terminación locativa \"-man\", traducido como \"(el) lugar donde se doblan las aguas\" o \"(lugar en) el recodo del río\".7\n",
      "https://es.wikipedia.org/wiki/Baja_California_Sur : El nombre California ya existía antes del descubrimiento de América o primera exploración de los europeos en tierras como nombre de un país ficticio y paradisíaco. Es dudosa la relación de tal apelación con el similar \"Califerne\", nombre de una reina no cristiana de la Canción de Roldán, cuya etimología es diferente (del francés \"calife\"). En la novela de caballería Las sergas de Esplandián, publicada en 1510 en Sevilla (España), se cita por vez primera el nombre tal y como lo conocemos en la actualidad, quizá proveniente de \"Cálida fornax\" u ‘horno caliente’ más el sufijo de país -ia.\n"
     ]
    },
    {
     "data": {
      "text/plain": [
       "30"
      ]
     },
     "execution_count": 138,
     "metadata": {},
     "output_type": "execute_result"
    }
   ],
   "source": [
    "for key ,value in dtoponimias.items():\n",
    "    print(f\"{key} : {value}\")\n",
    "\n",
    "len(dtoponimias)"
   ]
  }
 ],
 "metadata": {
  "kernelspec": {
   "display_name": "Python 3",
   "language": "python",
   "name": "python3"
  },
  "language_info": {
   "codemirror_mode": {
    "name": "ipython",
    "version": 3
   },
   "file_extension": ".py",
   "mimetype": "text/x-python",
   "name": "python",
   "nbconvert_exporter": "python",
   "pygments_lexer": "ipython3",
   "version": "3.10.0"
  }
 },
 "nbformat": 4,
 "nbformat_minor": 2
}
