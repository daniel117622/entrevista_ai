{
 "cells": [
  {
   "cell_type": "code",
   "execution_count": 1,
   "metadata": {},
   "outputs": [],
   "source": [
    "from selenium import webdriver\n",
    "from selenium.webdriver.chrome.options import Options\n",
    "from selenium.webdriver.common.by import By\n",
    "chop = Options()\n",
    "chop.add_argument(\"headless=new\")\n",
    "\n",
    "driver = webdriver.Chrome(options=chop)\n"
   ]
  },
  {
   "cell_type": "markdown",
   "metadata": {},
   "source": [
    "Get tables and keep the first one"
   ]
  },
  {
   "cell_type": "code",
   "execution_count": 2,
   "metadata": {},
   "outputs": [],
   "source": [
    "from dataformat import ITableRow_US\n",
    "import re\n",
    "def get_numbers(string_item): \n",
    "    return re.sub(\"[^\\d\\.]\", \"\" ,string_item)\n",
    "ENTIDADES_URL = \"https://es.wikipedia.org/wiki/Estado_de_los_Estados_Unidos\"\n",
    "driver.get(ENTIDADES_URL)\n",
    "table = driver.find_elements(By.CSS_SELECTOR,\"table\")[1]\n",
    "rows  = table.find_elements(By.CSS_SELECTOR, \"tbody>tr\")\n",
    "\n",
    "all_rows = []\n",
    "\n",
    "\n",
    "for row in rows:\n",
    "    cells         = row.find_elements(By.CSS_SELECTOR,\"td\")\n",
    "    name          = cells[1].text\n",
    "    official_name = cells[2].text\n",
    "    abbreviation  = cells[3].text\n",
    "    density       = float(get_numbers(cells[-1].text))\n",
    "    surface       = float(get_numbers(cells[-2].text))\n",
    "    population    = int(get_numbers(cells[-3].text))\n",
    "\n",
    "    table_row = ITableRow_US(name=name,\n",
    "                            official_name=official_name,\n",
    "                            abbreviation=abbreviation,\n",
    "                            density=density,\n",
    "                            surface=surface,\n",
    "                            population=population)\n",
    "    all_rows.append(table_row)\n"
   ]
  },
  {
   "cell_type": "markdown",
   "metadata": {},
   "source": [
    "Writing this data using the"
   ]
  },
  {
   "cell_type": "code",
   "execution_count": 3,
   "metadata": {},
   "outputs": [],
   "source": [
    "from datawriter import DataWriter\n",
    "\n",
    "dw = DataWriter('./out.xlsx')\n",
    "dw.write_us_table(all_rows)\n"
   ]
  },
  {
   "cell_type": "code",
   "execution_count": 4,
   "metadata": {},
   "outputs": [],
   "source": [
    "rows  = table.find_elements(By.CSS_SELECTOR, \"tbody>tr\")\n",
    "all_hrefs = []\n",
    "for row in rows:\n",
    "    # Get the second entry of the row\n",
    "    cell = row.find_elements(By.CSS_SELECTOR, \"td\")[1]\n",
    "    # Get the href link for that element\n",
    "    href = cell.find_element(By.CSS_SELECTOR, \"a\").get_attribute(\"href\")\n",
    "    all_hrefs.append(href)\n"
   ]
  },
  {
   "cell_type": "markdown",
   "metadata": {},
   "source": [
    "Use one of the hrefs to access the desired data. Similar to toponimias"
   ]
  },
  {
   "cell_type": "code",
   "execution_count": 5,
   "metadata": {},
   "outputs": [
    {
     "name": "stdout",
     "output_type": "stream",
     "text": [
      "[IEtimilogia_US(link='https://es.wikipedia.org/wiki/Wyoming', text='El estado recibe el nombre del río Alabama, que lo atraviesa hasta desembocar cerca de Mobile. La palabra Alabama proviene del nombre de la tribu nativa choctaw que habitó el territorio en tiempos antiguos, estos se autodenominaban Alibamu que en inglés significa I open the thicket («yo elimino la maleza»).[cita requerida]'), IEtimilogia_US(link='https://es.wikipedia.org/wiki/Wyoming', text='La península de la Florida fue descubierta por Juan Ponce de León el lunes de Pascua de Resurrección del año 1513. Como la Pascua de Resurrección también se conoce como la Pascua Florida, a la península se le llamó: Península de la Florida.'), IEtimilogia_US(link='https://es.wikipedia.org/wiki/Wyoming', text='Idaho es quizás el único estado en ser nombrado prácticamente a consecuencia de un error. A comienzos de los años 1860, cuando el Congreso de Estados Unidos entreveía la posibilidad de administrar un territorio en las Montañas Rocosas, el excéntrico e influyente George M. Willing sugirió la denominación de «Idaho», alegando que derivaba de una voz shoshone que significaba «el sol que nace en las montañas» o la «gema de las montañas». Willing aclaró más tarde que él mismo inventó el término.2 Como resultado, el Congreso tomó la decisión de llamarlo Territorio del Colorado en febrero de 1861.3'), IEtimilogia_US(link='https://es.wikipedia.org/wiki/Wyoming', text='Su nombre proviene del río Illinois, dado por los exploradores franceses. Lo llamaron así por la tribu illiniwek, una coalición de tribus algonquinas nativas del área. La palabra Illiniwek significa \"tribu de hombres superiores\".5'), IEtimilogia_US(link='https://es.wikipedia.org/wiki/Wyoming', text='Luisiana fue nombrada así en honor de Luis XIV, rey de Francia (1643-1715). Cuando René Robert Cavelier de La Salle reclamó este territorio regado por el río Misisipi para Francia, la llamó La Louisiane, que significa «La tierra de Luis». Luisiana también formó parte de la Luisiana Española la cual era una gran parte del Virreinato de Nueva España. Ya formando parte de los Estados Unidos, el territorio de Luisiana se extendía desde Nueva Orleans hasta la frontera actual con Canadá.'), IEtimilogia_US(link='https://es.wikipedia.org/wiki/Wyoming', text='La palabra Minnesota proviene del dakota para el río Minnesota, Mnisota o Mnišota. Mni (en ocasiones mini o minne) puede traducirse por \\'agua\\', y sota por \\'lechoso, nebuloso\\' (con la variante šota \\'embarrado\\'). De hecho, Mnisota se puede traducir como \\'agua teñida de cielo\\' y Mnišota por \\'agua enturbiada de algo\\'.456 Los nativos americanos explicaron el origen del nombre a los primeros colonos derramando leche en agua y llamándola mnisota. Muchos lugares del estado contienen la palabra \"minn\" para agua, como Minnehaha Falls (\"Cascada\"), Minneiska (\"Agua blanca\"), Minnetonka, (\"Agua grande\"), Minnetrista (\"Agua tuerta\"), y Mineápolis, que es una combinación de mni y la palabra griega polis (\"ciudad\").'), IEtimilogia_US(link='https://es.wikipedia.org/wiki/Wyoming', text='Nuevo México recibió su nombre mucho antes de que la actual nación mexicana se independizara de España y adoptara ese nombre en 1821. El nombre \"México\" deriva del náhuatl y originalmente se refería al corazón de los mexicas, los gobernantes del Imperio Azteca, en el Valle de México. El término náhuatl clásico Yancuic Mexihco, “un nuevo México”, se utilizaba para describir un imperio místico que rivalizaba en escala con su propio Imperio azteca. Estos mitos se basaban en la red comercial de los pueblos. Con el tiempo, estas historias evolucionaron hasta convertirse en el folclore de las Siete Ciudades de Oro.'), IEtimilogia_US(link='https://es.wikipedia.org/wiki/Wyoming', text='El nombre Oklahoma proviene de la frase choctaw okla humma, cuyo significado es, literalmente, \"gente roja\". El jefe choctaw Allen Wright sugirió este nombre en 1866 durante las negociaciones para el tratado con el gobierno federal en relación con el uso del Territorio Indio, en el que se contempla que todo el estado indio es controlado por el Superintendente de Asuntos Indios de los Estados Unidos. Equivalente a la palabra \"indio\", okla humma, fue una frase en lenguaje choctaw utilizada para describir los nativos americanos en conjunto. Oklahoma se convirtió después en el nombre de facto del Territorio de Oklahoma. En 1890 fue aprobado este nombre oficialmente y dos años después el área fue abierta a los colonos blancos.678'), IEtimilogia_US(link='https://es.wikipedia.org/wiki/Wyoming', text='Aunque los suecos y los neerlandeses fueron los primeros colonos europeos, el 28 de febrero de 1681 el rey Carlos II de Inglaterra le cedió un terreno7 al cuáquero inglés William Penn para el pago de una deuda de 16 000 libras esterlinas8 (equivalentes a aproximadamente 1 960 000 en 2013, con el ajuste de la inflación)9 que se le debían al padre de William Penn, el almirante William Penn. Fue esta una de las concesiones de tierra más grandes que se han hecho a un individuo en la historia.10 Fue llamada Pennsylvania (por el apellido Penn; y sylvania se deriva del latín medieval silva, \\'selva, bosque\\', debido a la frondosidad de sus bosques). A William Penn, quien deseaba que se llamara New Wales o Sylvania, le preocupaba que la gente pensara que él mismo había bautizado el lugar en su honor, pero el rey le pidió llamarlo Pensilvania en honor a su padre, Sir William Penn. Penn estableció un gobierno con dos innovaciones que siguieron reproduciéndose en el Nuevo Mundo: la comisión del condado y la libertad de creencia religiosa.10 Según algunas otras versiones, el nombre de la región proviene de una palabra de origen galés, Pen, que significa \"cabeza\".11'), IEtimilogia_US(link='https://es.wikipedia.org/wiki/Wyoming', text='Su nombre, originalmente, se aplicaba a la mayor isla de la bahía Narragansett, también conocida como Aquidneck. La explicación más difundida considera que el nombre se debe al explorador italiano Giovanni da Verrazzano quien, al descubrir la cercana Block Island, la llamó Rhode Island, por su similitud en la forma con la isla griega de Rodas. Posteriores exploradores, equivocando la isla, lo aplicaron a la Isla Aquidneck.'), IEtimilogia_US(link='https://es.wikipedia.org/wiki/Wyoming', text='El término Tenesí fue utilizado por primera vez en una expedición comandada por el capitán Juan Pardo, un explorador español, cuando este y sus hombres pasaron por una población de indígenas llamada «Tanasqui» en 1567 mientras viajaban hacia el interior desde la actual Carolina del Sur. Los europeos después encontraron un pueblo cherokee llamado Tanasi (o Tanase) en el condado actual de Monroe. El pueblo estaba situado junto al río del mismo nombre (ahora conocido como Little Tennessee River).'), IEtimilogia_US(link='https://es.wikipedia.org/wiki/Wyoming', text='La palabra Wisconsin proviene del nombre dado al río Wisconsin por uno de los grupos indígenas algonquinos que habitaban en la región al momento del contacto europeo. El explorador francés Jacques Marquette fue el primer europeo en llegar al río Wisconsin y registrar su nombre, llegando en 1673 y llamando al río Meskousing en su diario. Esta ortografía fue corrompida después a Ouisconsin por otros exploradores franceses, y con el tiempo esto se convirtió en la versión francesa tanto del nombre como del río Wisconsin y en las tierras circundantes. Los habitantes de habla inglesa anglicaron la palabra a su forma moderna, cuando ellos comenzaron a llegar en gran número durante el siglo xix. La ortografía actual fue hecha oficial por la legislatura del Territorio de Wisconsin en 1845.')]\n"
     ]
    }
   ],
   "source": [
    "from dataformat import IEtimilogia_US\n",
    "etimologias = []\n",
    "\n",
    "for link in all_hrefs:\n",
    "    driver.get(link)\n",
    "\n",
    "    text_area = driver.find_element(By.CSS_SELECTOR, \"#mw-content-text>div\")\n",
    "    paragraphs = text_area.find_elements(By.XPATH, \"./*\")\n",
    "\n",
    "    is_toponimia_next = False\n",
    "\n",
    "    for paragraph in paragraphs:\n",
    "        if paragraph.tag_name == \"h2\":\n",
    "            try:\n",
    "                titulo = paragraph.find_element(By.ID, \"Etimología\").get_attribute(\"innerHTML\")\n",
    "                is_toponimia_next = True\n",
    "                continue\n",
    "            except:\n",
    "                pass\n",
    "        if is_toponimia_next:\n",
    "            # Avoid figures or spans embedded between title and text\n",
    "            if paragraph.tag_name != \"p\":\n",
    "                continue\n",
    "            etimologias.append(IEtimilogia_US(link = link , text = paragraph.text))\n",
    "            break\n",
    "print(dtoponimias)\n",
    "\n"
   ]
  }
 ],
 "metadata": {
  "kernelspec": {
   "display_name": "Python 3",
   "language": "python",
   "name": "python3"
  },
  "language_info": {
   "codemirror_mode": {
    "name": "ipython",
    "version": 3
   },
   "file_extension": ".py",
   "mimetype": "text/x-python",
   "name": "python",
   "nbconvert_exporter": "python",
   "pygments_lexer": "ipython3",
   "version": "3.10.0"
  }
 },
 "nbformat": 4,
 "nbformat_minor": 2
}
